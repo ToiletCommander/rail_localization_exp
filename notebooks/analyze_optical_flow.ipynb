{
 "cells": [
  {
   "cell_type": "code",
   "execution_count": 4,
   "id": "1ae9c193-9110-4eea-b2ab-ca7a3d032daa",
   "metadata": {},
   "outputs": [],
   "source": [
    "from matplotlib import pyplot as plt\n",
    "import numpy as np\n",
    "import pandas"
   ]
  },
  {
   "cell_type": "markdown",
   "id": "88e10779-1917-4188-bf38-75534758d6dc",
   "metadata": {},
   "source": [
    "> I suspect that during the data collection process I didn't check the role of the tracker and it gets assigned with a role other than hand-held?"
   ]
  },
  {
   "cell_type": "code",
   "execution_count": 26,
   "id": "9c003616-c259-4698-a524-17a4d9622767",
   "metadata": {},
   "outputs": [
    {
     "data": {
      "text/html": [
       "<div>\n",
       "<style scoped>\n",
       "    .dataframe tbody tr th:only-of-type {\n",
       "        vertical-align: middle;\n",
       "    }\n",
       "\n",
       "    .dataframe tbody tr th {\n",
       "        vertical-align: top;\n",
       "    }\n",
       "\n",
       "    .dataframe thead th {\n",
       "        text-align: right;\n",
       "    }\n",
       "</style>\n",
       "<table border=\"1\" class=\"dataframe\">\n",
       "  <thead>\n",
       "    <tr style=\"text-align: right;\">\n",
       "      <th></th>\n",
       "      <th>Unnamed: 0</th>\n",
       "      <th>dts</th>\n",
       "      <th>pwm3901_vx</th>\n",
       "      <th>pwm3901_vy</th>\n",
       "      <th>openvr_vx</th>\n",
       "      <th>openvr_vy</th>\n",
       "      <th>openvr_vz</th>\n",
       "      <th>openvr_v_angx</th>\n",
       "      <th>openvr_v_angy</th>\n",
       "      <th>openvr_v_angz</th>\n",
       "    </tr>\n",
       "  </thead>\n",
       "  <tbody>\n",
       "    <tr>\n",
       "      <th>0</th>\n",
       "      <td>0</td>\n",
       "      <td>0.003848</td>\n",
       "      <td>0.000000</td>\n",
       "      <td>0.000000</td>\n",
       "      <td>0.633154</td>\n",
       "      <td>-0.272498</td>\n",
       "      <td>0.310823</td>\n",
       "      <td>-0.215159</td>\n",
       "      <td>-0.042892</td>\n",
       "      <td>-0.110643</td>\n",
       "    </tr>\n",
       "    <tr>\n",
       "      <th>1</th>\n",
       "      <td>1</td>\n",
       "      <td>0.204458</td>\n",
       "      <td>0.000000</td>\n",
       "      <td>0.000000</td>\n",
       "      <td>0.747166</td>\n",
       "      <td>-0.378270</td>\n",
       "      <td>0.327756</td>\n",
       "      <td>-0.682509</td>\n",
       "      <td>0.073600</td>\n",
       "      <td>-0.289447</td>\n",
       "    </tr>\n",
       "    <tr>\n",
       "      <th>2</th>\n",
       "      <td>2</td>\n",
       "      <td>0.405198</td>\n",
       "      <td>0.000000</td>\n",
       "      <td>0.000000</td>\n",
       "      <td>0.178980</td>\n",
       "      <td>-0.075715</td>\n",
       "      <td>0.133074</td>\n",
       "      <td>-0.380408</td>\n",
       "      <td>0.124947</td>\n",
       "      <td>-0.084724</td>\n",
       "    </tr>\n",
       "    <tr>\n",
       "      <th>3</th>\n",
       "      <td>3</td>\n",
       "      <td>0.605849</td>\n",
       "      <td>0.000000</td>\n",
       "      <td>0.000000</td>\n",
       "      <td>0.094906</td>\n",
       "      <td>-0.166927</td>\n",
       "      <td>-0.022541</td>\n",
       "      <td>-0.526663</td>\n",
       "      <td>0.204515</td>\n",
       "      <td>0.012860</td>\n",
       "    </tr>\n",
       "    <tr>\n",
       "      <th>4</th>\n",
       "      <td>4</td>\n",
       "      <td>0.806418</td>\n",
       "      <td>0.000000</td>\n",
       "      <td>0.000000</td>\n",
       "      <td>0.052284</td>\n",
       "      <td>-0.129441</td>\n",
       "      <td>0.007932</td>\n",
       "      <td>-0.084257</td>\n",
       "      <td>0.651170</td>\n",
       "      <td>0.122270</td>\n",
       "    </tr>\n",
       "    <tr>\n",
       "      <th>...</th>\n",
       "      <td>...</td>\n",
       "      <td>...</td>\n",
       "      <td>...</td>\n",
       "      <td>...</td>\n",
       "      <td>...</td>\n",
       "      <td>...</td>\n",
       "      <td>...</td>\n",
       "      <td>...</td>\n",
       "      <td>...</td>\n",
       "      <td>...</td>\n",
       "    </tr>\n",
       "    <tr>\n",
       "      <th>177</th>\n",
       "      <td>177</td>\n",
       "      <td>35.514267</td>\n",
       "      <td>-122.347019</td>\n",
       "      <td>-26.823117</td>\n",
       "      <td>0.186537</td>\n",
       "      <td>0.057410</td>\n",
       "      <td>-0.473587</td>\n",
       "      <td>-0.158223</td>\n",
       "      <td>-0.501509</td>\n",
       "      <td>-0.360953</td>\n",
       "    </tr>\n",
       "    <tr>\n",
       "      <th>178</th>\n",
       "      <td>178</td>\n",
       "      <td>35.714855</td>\n",
       "      <td>-115.160800</td>\n",
       "      <td>-19.381740</td>\n",
       "      <td>0.020891</td>\n",
       "      <td>0.084279</td>\n",
       "      <td>-0.374130</td>\n",
       "      <td>0.044196</td>\n",
       "      <td>-0.558233</td>\n",
       "      <td>0.284453</td>\n",
       "    </tr>\n",
       "    <tr>\n",
       "      <th>179</th>\n",
       "      <td>179</td>\n",
       "      <td>35.915776</td>\n",
       "      <td>-0.992524</td>\n",
       "      <td>57.481826</td>\n",
       "      <td>-0.106779</td>\n",
       "      <td>0.064806</td>\n",
       "      <td>-0.163939</td>\n",
       "      <td>0.276210</td>\n",
       "      <td>-0.641910</td>\n",
       "      <td>-0.082549</td>\n",
       "    </tr>\n",
       "    <tr>\n",
       "      <th>180</th>\n",
       "      <td>180</td>\n",
       "      <td>36.116413</td>\n",
       "      <td>-73.275225</td>\n",
       "      <td>17.296637</td>\n",
       "      <td>-0.046599</td>\n",
       "      <td>-0.076513</td>\n",
       "      <td>-0.163342</td>\n",
       "      <td>-0.152418</td>\n",
       "      <td>-0.124985</td>\n",
       "      <td>-0.003011</td>\n",
       "    </tr>\n",
       "    <tr>\n",
       "      <th>181</th>\n",
       "      <td>181</td>\n",
       "      <td>36.317191</td>\n",
       "      <td>-1.108198</td>\n",
       "      <td>28.710155</td>\n",
       "      <td>-0.008272</td>\n",
       "      <td>-0.042619</td>\n",
       "      <td>-0.078688</td>\n",
       "      <td>-0.056232</td>\n",
       "      <td>-0.217790</td>\n",
       "      <td>-0.064607</td>\n",
       "    </tr>\n",
       "  </tbody>\n",
       "</table>\n",
       "<p>182 rows × 10 columns</p>\n",
       "</div>"
      ],
      "text/plain": [
       "     Unnamed: 0        dts  pwm3901_vx  pwm3901_vy  openvr_vx  openvr_vy  \\\n",
       "0             0   0.003848    0.000000    0.000000   0.633154  -0.272498   \n",
       "1             1   0.204458    0.000000    0.000000   0.747166  -0.378270   \n",
       "2             2   0.405198    0.000000    0.000000   0.178980  -0.075715   \n",
       "3             3   0.605849    0.000000    0.000000   0.094906  -0.166927   \n",
       "4             4   0.806418    0.000000    0.000000   0.052284  -0.129441   \n",
       "..          ...        ...         ...         ...        ...        ...   \n",
       "177         177  35.514267 -122.347019  -26.823117   0.186537   0.057410   \n",
       "178         178  35.714855 -115.160800  -19.381740   0.020891   0.084279   \n",
       "179         179  35.915776   -0.992524   57.481826  -0.106779   0.064806   \n",
       "180         180  36.116413  -73.275225   17.296637  -0.046599  -0.076513   \n",
       "181         181  36.317191   -1.108198   28.710155  -0.008272  -0.042619   \n",
       "\n",
       "     openvr_vz  openvr_v_angx  openvr_v_angy  openvr_v_angz  \n",
       "0     0.310823      -0.215159      -0.042892      -0.110643  \n",
       "1     0.327756      -0.682509       0.073600      -0.289447  \n",
       "2     0.133074      -0.380408       0.124947      -0.084724  \n",
       "3    -0.022541      -0.526663       0.204515       0.012860  \n",
       "4     0.007932      -0.084257       0.651170       0.122270  \n",
       "..         ...            ...            ...            ...  \n",
       "177  -0.473587      -0.158223      -0.501509      -0.360953  \n",
       "178  -0.374130       0.044196      -0.558233       0.284453  \n",
       "179  -0.163939       0.276210      -0.641910      -0.082549  \n",
       "180  -0.163342      -0.152418      -0.124985      -0.003011  \n",
       "181  -0.078688      -0.056232      -0.217790      -0.064607  \n",
       "\n",
       "[182 rows x 10 columns]"
      ]
     },
     "execution_count": 26,
     "metadata": {},
     "output_type": "execute_result"
    }
   ],
   "source": [
    "flat_frame = pandas.read_csv(\"data/optical_flow_dat/aggregate_data_20221121-001125(flat).csv\")\n",
    "flat_frame"
   ]
  },
  {
   "cell_type": "code",
   "execution_count": 33,
   "id": "9545b2ef-be6c-4719-80a1-4c55c6cc5ae8",
   "metadata": {},
   "outputs": [],
   "source": [
    "pwm3901_vx_stacked_mat = np.stack((\n",
    "    flat_frame['pwm3901_vx'],\n",
    "    flat_frame['openvr_vx'],\n",
    "    flat_frame['openvr_vy'],\n",
    "    flat_frame['openvr_vz']\n",
    "),axis=0)\n",
    "\n",
    "pwm3901_vy_stacked_mat = np.stack((\n",
    "    flat_frame['pwm3901_vy'],\n",
    "    flat_frame['openvr_vx'],\n",
    "    flat_frame['openvr_vy'],\n",
    "    flat_frame['openvr_vz']\n",
    "),axis=0)"
   ]
  },
  {
   "cell_type": "code",
   "execution_count": 34,
   "id": "c70bf92c-b6f9-4924-8dc4-ac752681d6fb",
   "metadata": {},
   "outputs": [
    {
     "data": {
      "image/png": "[encoded data removed]",
      "text/plain": [
       "<Figure size 480x480 with 2 Axes>"
      ]
     },
     "metadata": {},
     "output_type": "display_data"
    },
    {
     "data": {
      "text/plain": [
       "array([[ 1.        , -0.01514606,  0.16121246,  0.83373737],\n",
       "       [-0.01514606,  1.        , -0.07624321,  0.01079694],\n",
       "       [ 0.16121246, -0.07624321,  1.        ,  0.18159368],\n",
       "       [ 0.83373737,  0.01079694,  0.18159368,  1.        ]])"
      ]
     },
     "execution_count": 34,
     "metadata": {},
     "output_type": "execute_result"
    }
   ],
   "source": [
    "pwm3901_vx_corrcoeff = np.corrcoef(pwm3901_vx_stacked_mat,rowvar=True)\n",
    "plt.matshow(pwm3901_vx_corrcoeff)\n",
    "plt.colorbar()\n",
    "plt.show()\n",
    "\n",
    "pwm3901_vx_corrcoeff"
   ]
  },
  {
   "cell_type": "markdown",
   "id": "37b2f443-ae9e-434f-8f76-cb07de0d84e9",
   "metadata": {},
   "source": [
    "> Looks like $v_x$ in pwm3901 is strongly correlated with $v_z$ in openvr => if hand-held role it would be the $v_y$"
   ]
  },
  {
   "cell_type": "code",
   "execution_count": 35,
   "id": "6e49eefb-f1d0-4f4a-88cb-45ee5c331117",
   "metadata": {},
   "outputs": [
    {
     "data": {
      "image/png": "[encoded data removed]",
      "text/plain": [
       "<Figure size 480x480 with 2 Axes>"
      ]
     },
     "metadata": {},
     "output_type": "display_data"
    },
    {
     "data": {
      "text/plain": [
       "array([[ 1.        , -0.76394694, -0.07388549,  0.00476006],\n",
       "       [-0.76394694,  1.        , -0.07624321,  0.01079694],\n",
       "       [-0.07388549, -0.07624321,  1.        ,  0.18159368],\n",
       "       [ 0.00476006,  0.01079694,  0.18159368,  1.        ]])"
      ]
     },
     "execution_count": 35,
     "metadata": {},
     "output_type": "execute_result"
    }
   ],
   "source": [
    "pwm3901_vy_corrcoeff = np.corrcoef(pwm3901_vy_stacked_mat,rowvar=True)\n",
    "plt.matshow(pwm3901_vy_corrcoeff)\n",
    "plt.colorbar()\n",
    "plt.show()\n",
    "\n",
    "pwm3901_vy_corrcoeff"
   ]
  },
  {
   "cell_type": "markdown",
   "id": "2de92160-040f-4b95-aeef-3d7c8f8d3590",
   "metadata": {},
   "source": [
    "> Looks like $v_y$ in pwm3901 is strongly correlated with $-v_x$ in openvr => if hand-held role it would be the $v_x$"
   ]
  },
  {
   "cell_type": "markdown",
   "id": "2cbfe34c-efc9-4444-97eb-83f4a6f8ee6b",
   "metadata": {},
   "source": [
    "Now let's find some multiplication factors!"
   ]
  },
  {
   "cell_type": "code",
   "execution_count": 36,
   "id": "1802bdfa-d676-4009-9dcb-9060dac95c22",
   "metadata": {},
   "outputs": [
    {
     "name": "stdout",
     "output_type": "stream",
     "text": [
      "x_multiplier 0.0026329346794752443\n"
     ]
    }
   ],
   "source": [
    "x_idx = flat_frame['pwm3901_vx']!=0\n",
    "x_multiplier = flat_frame['openvr_vz'].std() / flat_frame['pwm3901_vx'].std()\n",
    "print('x_multiplier', x_multiplier)"
   ]
  },
  {
   "cell_type": "code",
   "execution_count": 41,
   "id": "408ad937-548d-4a5c-ab91-7d264f69b4c5",
   "metadata": {},
   "outputs": [
    {
     "name": "stdout",
     "output_type": "stream",
     "text": [
      "y_multiplier -0.0027027605187676393\n"
     ]
    }
   ],
   "source": [
    "y_idx = flat_frame['pwm3901_vy']!=0\n",
    "y_multiplier = -flat_frame['openvr_vx'].std() / flat_frame['pwm3901_vy'].std()\n",
    "print('y_multiplier', y_multiplier)"
   ]
  },
  {
   "cell_type": "code",
   "execution_count": 43,
   "id": "0dfd5077-5087-4b09-96ea-487e139e5c64",
   "metadata": {},
   "outputs": [
    {
     "data": {
      "text/plain": [
       "0.002667847599121442"
      ]
     },
     "execution_count": 43,
     "metadata": {},
     "output_type": "execute_result"
    }
   ],
   "source": [
    "real_multiplier = (x_multiplier - y_multiplier) / 2\n",
    "real_multiplier"
   ]
  },
  {
   "cell_type": "code",
   "execution_count": null,
   "id": "d4447351-333c-42b0-aa7f-b91ded3b6263",
   "metadata": {},
   "outputs": [],
   "source": []
  }
 ],
 "metadata": {
  "kernelspec": {
   "display_name": "Python 3 (ipykernel)",
   "language": "python",
   "name": "python3"
  },
  "language_info": {
   "codemirror_mode": {
    "name": "ipython",
    "version": 3
   },
   "file_extension": ".py",
   "mimetype": "text/x-python",
   "name": "python",
   "nbconvert_exporter": "python",
   "pygments_lexer": "ipython3",
   "version": "3.10.4"
  }
 },
 "nbformat": 4,
 "nbformat_minor": 5
}
